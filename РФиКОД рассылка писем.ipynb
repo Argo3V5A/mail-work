{
 "cells": [
  {
   "cell_type": "code",
   "execution_count": 45,
   "id": "driving-equality",
   "metadata": {},
   "outputs": [],
   "source": [
    "import pandas as pd\n",
    "import datetime, os\n",
    "\n",
    "#import win32com.client as win32\n",
    "from tkinter import filedialog\n",
    "from win32com.client import Dispatch"
   ]
  },
  {
   "cell_type": "code",
   "execution_count": null,
   "id": "affiliated-clock",
   "metadata": {},
   "outputs": [],
   "source": [
    "def GetFilePath(*arg):\n",
    "    autosvod_path = filedialog.askopenfilename()\n",
    "    return autosvod_path"
   ]
  },
  {
   "cell_type": "code",
   "execution_count": 47,
   "id": "occasional-duplicate",
   "metadata": {},
   "outputs": [],
   "source": [
    "maindf = pd.read_excel(r\"D:\\MyProjects\\RFKOD\\Итог_ Детализации по ТБ_сделки_ПР_КОД_01.01.2021-17.01.2021_VerID1.xlsx\", skiprows=2)\n",
    "otvdf = pd.read_excel(r\"D:\\MyProjects\\RFKOD\\Рассылка РФиКОД (ПР).xlsm\",usecols=[0,1])\n",
    "\n",
    "Path_to_table = dict()\n",
    "Otvetstvenie_email = dict()"
   ]
  },
  {
   "cell_type": "code",
   "execution_count": 48,
   "id": "metric-restoration",
   "metadata": {},
   "outputs": [],
   "source": [
    "def GetTBList(df, colummindex):\n",
    "    \"\"\"Получаем книгу возвращает список ТБ\"\"\"\n",
    "    try:\n",
    "        ndf = list(df.iloc[:,int(colummindex)].unique())\n",
    "        tb_list = sorted(ndf)\n",
    "        return tb_list\n",
    "    except:\n",
    "        return print(f\"Не удалось получить dataframe или столбец по индексу {colummindex}\")"
   ]
  },
  {
   "cell_type": "code",
   "execution_count": 49,
   "id": "dedicated-stadium",
   "metadata": {},
   "outputs": [],
   "source": [
    "def GetTableToSend(df,TB_list, *arg):\n",
    "    \"\"\"Режим таблицу по ТБ и складываем в папку Temp\"\"\"\n",
    "    \n",
    "    for i in TB_list:\n",
    "        path_to_table = rf\"C:\\Temp\\output_{i}.xlsx\"\n",
    "        df_to_send = df.loc[df[\"ТБ кр\"] == i].copy()\n",
    "        df_to_send.to_excel(path_to_table)\n",
    "        Path_to_table.update({i : path_to_table})\n",
    "        del df_to_send\n",
    "        \n",
    "    return Path_to_table"
   ]
  },
  {
   "cell_type": "code",
   "execution_count": 50,
   "id": "naval-vector",
   "metadata": {},
   "outputs": [],
   "source": [
    "def OtvString(otvdf, tb_list):\n",
    "    \"\"\"Получаем адресатов\"\"\"\n",
    "\n",
    "    for i in tb_list:\n",
    "        sendTo = ''\n",
    "        email_otv = otvdf.loc[otvdf['ТБ'] == i]['Кураторы Проекта со стороны ПКД   Модуля ППРБ ']\n",
    "        \n",
    "        for i in email_otv:\n",
    "            sendTo = sendTo + str(i) + '; '\n",
    "        Otvetstvenie_email.update({i:sendTo})\n",
    "\n",
    "    return Otvetstvenie_email"
   ]
  },
  {
   "cell_type": "code",
   "execution_count": 51,
   "id": "korean-cathedral",
   "metadata": {},
   "outputs": [],
   "source": [
    "def AutoSize(file_path):\n",
    "    excel = win32.gencache.EnsureDispatch('Excel.Application')\n",
    "    wb = excel.Workbooks.Open(file_path)\n",
    "    excel.Visible = False\n",
    "    ws = wb.Worksheets('Sheet1')\n",
    "    ws.Columns.AutoFit()\n",
    "    wb.Save()\n",
    "    excel.Application.Quit()\n",
    "    return file_path"
   ]
  },
  {
   "cell_type": "code",
   "execution_count": 52,
   "id": "burning-jackson",
   "metadata": {},
   "outputs": [],
   "source": [
    "tb_list = GetTBList(df,0)\n",
    "Path_to_table = GetTableToSend(maindf, tb_list)\n",
    "Otvetstvenie_email = OtvString(otvdf, tb_list)"
   ]
  },
  {
   "cell_type": "code",
   "execution_count": 18,
   "id": "portuguese-magnitude",
   "metadata": {},
   "outputs": [],
   "source": [
    "def SendMail(options, TB, *arg):\n",
    "    outlook = Dispatch('outlook.application')\n",
    "    AttachFile = path_to_tb_table[TB]\n",
    "    \n",
    "    mail = outlook.CreateItem(0)\n",
    "\n",
    "    mail.To = OtvString(otvdf, TB)\n",
    "    mail.CC = options[\"CC\"]\n",
    "    mail.Subject = f\"Тема сообщения для банка {TB}\"\n",
    "    mail.Body = options[\"Body\"]\n",
    "    mail.HTMLBody = \"\"\n",
    "    mail.Attachments.Add(AttachFile)\n",
    "    mail.Display(True)\n",
    "    \n",
    "    #os.remove(AttachFile) # Удаление файла из ФИР"
   ]
  },
  {
   "cell_type": "code",
   "execution_count": null,
   "id": "brutal-wagon",
   "metadata": {},
   "outputs": [],
   "source": []
  }
 ],
 "metadata": {
  "kernelspec": {
   "display_name": "Python 3",
   "language": "python",
   "name": "python3"
  },
  "language_info": {
   "codemirror_mode": {
    "name": "ipython",
    "version": 3
   },
   "file_extension": ".py",
   "mimetype": "text/x-python",
   "name": "python",
   "nbconvert_exporter": "python",
   "pygments_lexer": "ipython3",
   "version": "3.8.5"
  }
 },
 "nbformat": 4,
 "nbformat_minor": 5
}
